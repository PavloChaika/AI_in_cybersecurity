{
 "cells": [
  {
   "cell_type": "code",
   "execution_count": 1,
   "metadata": {},
   "outputs": [],
   "source": [
    "import pandas as pd\n",
    "import numpy as np\n",
    "from sklearn import *\n",
    "from sklearn.tree import export_graphviz\n",
    "import graphviz\n",
    "\n",
    "import warnings \n",
    "warnings.simplefilter('ignore')"
   ]
  },
  {
   "cell_type": "code",
   "execution_count": 2,
   "metadata": {},
   "outputs": [],
   "source": [
    "malware_dataset = pd.read_csv('MalwareArtifacts.csv', delimiter=',')\n",
    "# Extacting artifacts samples fields \"AddressOfEntryPoint\" and \"DllCharacteristics\"\n",
    "samples = malware_dataset.iloc[:, [0,4]].values\n",
    "targets = malware_dataset.iloc[:, 8].values"
   ]
  },
  {
   "cell_type": "code",
   "execution_count": 3,
   "metadata": {},
   "outputs": [],
   "source": [
    "from sklearn.model_selection import train_test_split\n",
    "\n",
    "training_samples, testing_samples, training_targets, testing_targets = train_test_split(samples, targets, test_size=0.2)\n"
   ]
  },
  {
   "cell_type": "code",
   "execution_count": 5,
   "metadata": {},
   "outputs": [
    {
     "name": "stdout",
     "output_type": "stream",
     "text": [
      "Random Forest Classifier accuracy: 96.3876459674779\n"
     ]
    }
   ],
   "source": [
    "rfc =  ensemble.RandomForestClassifier(n_estimators=50)\n",
    "rfc.fit(training_samples, training_targets)\n",
    "\n",
    "accuracy = rfc.score(testing_samples, testing_targets)\n",
    "\n",
    "print(\"Random Forest Classifier accuracy: \" + str(accuracy*100) )"
   ]
  },
  {
   "cell_type": "code",
   "execution_count": 6,
   "metadata": {
    "tags": []
   },
   "outputs": [
    {
     "name": "stdout",
     "output_type": "stream",
     "text": [
      "Predictions: [1 0 1 1 1 0 1 1 1 1]\n",
      "Targets    : [1 0 1 1 1 0 1 1 1 1]\n"
     ]
    }
   ],
   "source": [
    "#Runnung model on self-created data\n",
    "malware_dataset_mine = pd.read_csv('Homework_MalwareArtifacts.csv', delimiter=',')\n",
    "\n",
    "# Extacting artifacts samples fields \"AddressOfEntryPoint\" and \"DllCharacteristics\"\n",
    "samples = malware_dataset_mine.iloc[:, [0, 4]].values\n",
    "targets = malware_dataset_mine.iloc[:, 8].values\n",
    "\n",
    "predictions = rfc.predict(samples)\n",
    "\n",
    "print(\"Predictions:\", predictions)\n",
    "print(\"Targets    :\", targets)"
   ]
  },
  {
   "cell_type": "code",
   "execution_count": null,
   "metadata": {},
   "outputs": [],
   "source": []
  }
 ],
 "metadata": {
  "kernelspec": {
   "display_name": "Python 3 (ipykernel)",
   "language": "python",
   "name": "python3"
  },
  "language_info": {
   "codemirror_mode": {
    "name": "ipython",
    "version": 3
   },
   "file_extension": ".py",
   "mimetype": "text/x-python",
   "name": "python",
   "nbconvert_exporter": "python",
   "pygments_lexer": "ipython3",
   "version": "3.11.5"
  }
 },
 "nbformat": 4,
 "nbformat_minor": 4
}
